{
 "cells": [
  {
   "cell_type": "markdown",
   "metadata": {},
   "source": [
    "# Monte Carlo Simulation Explained Simply using an Example\n",
    "[A simple solution for Really Hard Problems: Monte Carlo Simulation](https://youtu.be/slbZ-SLpIgg?si=3YzMdMVIB9-K6gel) "
   ]
  },
  {
   "cell_type": "markdown",
   "metadata": {},
   "source": [
    "Problem: You got two requests from your boss, one of which (based on past experience) will take anywhere between 1 to 5 hours and the other between 2 to 6 hours to complete. Your performance on one report has no bearing on the other (<= important assumptions). You decide to represent the time to complete each report as following uniform distribution (very intuitive isn't it?). The probability distribution of the uniform distribution assumes the relative likelihood of all outcomes between a defined minimum and a defined maximum are the same."
   ]
  },
  {
   "cell_type": "markdown",
   "metadata": {},
   "source": []
  },
  {
   "cell_type": "code",
   "execution_count": 2,
   "metadata": {},
   "outputs": [],
   "source": [
    "import numpy as np\n",
    "sims = 1000000\n",
    "\n",
    "A = np.random.uniform(1, 5, sims)\n",
    "B = np.random.uniform(2, 6, sims)\n",
    "\n",
    "duration = A + B # total time to finish the reports"
   ]
  },
  {
   "cell_type": "code",
   "execution_count": 4,
   "metadata": {},
   "outputs": [
    {
     "name": "stdout",
     "output_type": "stream",
     "text": [
      "0.124968\n"
     ]
    },
    {
     "data": {
      "image/png": "[encoded data removed]",
      "text/plain": [
       "<Figure size 432x288 with 1 Axes>"
      ]
     },
     "metadata": {
      "needs_background": "light"
     },
     "output_type": "display_data"
    }
   ],
   "source": [
    "import matplotlib\n",
    "import matplotlib.pyplot as plt\n",
    "fig, ax = plt.subplots(1, 1)\n",
    "ax.hist(duration, density=True)\n",
    "ax.axvline(9, color = 'r')\n",
    "print((duration > 9).sum()/sims) # Probability that you spend more time than 9 hours to finish the report"
   ]
  }
 ],
 "metadata": {
  "kernelspec": {
   "display_name": "base",
   "language": "python",
   "name": "python3"
  },
  "language_info": {
   "codemirror_mode": {
    "name": "ipython",
    "version": 3
   },
   "file_extension": ".py",
   "mimetype": "text/x-python",
   "name": "python",
   "nbconvert_exporter": "python",
   "pygments_lexer": "ipython3",
   "version": "3.9.12"
  }
 },
 "nbformat": 4,
 "nbformat_minor": 2
}
